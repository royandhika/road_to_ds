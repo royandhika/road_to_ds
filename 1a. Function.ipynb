{
 "cells": [
  {
   "cell_type": "markdown",
   "id": "07b8f186-2750-42dd-b3a2-772a90bc63d6",
   "metadata": {
    "tags": []
   },
   "source": [
    "# Function, Lambda, Module, Package"
   ]
  },
  {
   "cell_type": "markdown",
   "id": "9d993611-0a4d-44ae-a01a-adb6003ac93b",
   "metadata": {
    "tags": []
   },
   "source": [
    "## Function"
   ]
  },
  {
   "cell_type": "code",
   "execution_count": 2,
   "id": "b38a9994-ea08-4d44-8a6a-43e4f9137358",
   "metadata": {},
   "outputs": [
    {
     "name": "stdout",
     "output_type": "stream",
     "text": [
      "300\n"
     ]
    }
   ],
   "source": [
    "def function1() :\n",
    "    x = 300\n",
    "    print(x)\n",
    "\n",
    "function1()"
   ]
  },
  {
   "cell_type": "code",
   "execution_count": 16,
   "id": "0a708b38-0466-4709-b7fa-b3e881d6f6e2",
   "metadata": {},
   "outputs": [
    {
     "name": "stdout",
     "output_type": "stream",
     "text": [
      "300\n",
      "500\n"
     ]
    }
   ],
   "source": [
    "def funct2() :\n",
    "    x = 300\n",
    "    def innerfunct() :\n",
    "        print(x)\n",
    "    innerfunct()\n",
    "    \n",
    "funct2()\n",
    "\n",
    "\n",
    "def if3(x) :\n",
    "    print(x)\n",
    "def f3() :\n",
    "    x = 500\n",
    "    if3(x)\n",
    "\n",
    "f3()"
   ]
  },
  {
   "cell_type": "code",
   "execution_count": 19,
   "id": "4fc8f4fc-bd26-441e-b5a7-6a151731cdf0",
   "metadata": {},
   "outputs": [
    {
     "name": "stdout",
     "output_type": "stream",
     "text": [
      "500\n",
      "450\n"
     ]
    }
   ],
   "source": [
    "x = 450 # variable GLOBAL\n",
    "\n",
    "def f4() :\n",
    "    x = 500  # variable LOCAL\n",
    "    print(x)\n",
    "    \n",
    "f4()\n",
    "print(x)"
   ]
  },
  {
   "cell_type": "code",
   "execution_count": 34,
   "id": "d16a7a8a-b5c5-4216-97a0-1b7bfbbba0f5",
   "metadata": {},
   "outputs": [
    {
     "name": "stdout",
     "output_type": "stream",
     "text": [
      "500\n",
      "500\n"
     ]
    }
   ],
   "source": [
    "x = 400\n",
    "\n",
    "def f5() :\n",
    "    global x\n",
    "    x += 100\n",
    "    print(x)\n",
    "f5()\n",
    "print(x)"
   ]
  },
  {
   "cell_type": "code",
   "execution_count": 8,
   "id": "cf018a01-362f-4a36-a7da-6799cfe8e99c",
   "metadata": {},
   "outputs": [
    {
     "name": "stdout",
     "output_type": "stream",
     "text": [
      "Halo Roy\n"
     ]
    }
   ],
   "source": [
    "def functx(nama) :\n",
    "    print(f\"Halo {nama}\")\n",
    "    \n",
    "functx(\"Roy\")"
   ]
  },
  {
   "cell_type": "code",
   "execution_count": 25,
   "id": "1c37e4d5-7a2c-4b95-bff8-c6f0aae3864b",
   "metadata": {},
   "outputs": [
    {
     "name": "stdin",
     "output_type": "stream",
     "text": [
      "Number : 91372498726598127364981723\n"
     ]
    },
    {
     "name": "stdout",
     "output_type": "stream",
     "text": [
      "iacgbdihgbfeihabgcfdihagbc\n"
     ]
    }
   ],
   "source": [
    "def kunci(kata):\n",
    "    kode = \"\"\n",
    "    for i in kata:\n",
    "        if i == \"1\":\n",
    "            kode += \"a\"\n",
    "        elif i == \"2\":\n",
    "            kode += \"b\"\n",
    "        elif i == \"3\":\n",
    "            kode += \"c\"\n",
    "        elif i == \"4\":\n",
    "            kode += \"d\"\n",
    "        elif i == \"5\":\n",
    "            kode += \"e\"\n",
    "        elif i == \"6\":\n",
    "            kode += \"f\"\n",
    "        elif i == \"7\":\n",
    "            kode += \"g\"\n",
    "        elif i == \"8\":\n",
    "            kode += \"h\"\n",
    "        elif i == \"9\":\n",
    "            kode += \"i\"\n",
    "        else:\n",
    "            pass\n",
    "    return kode\n",
    "\n",
    "print(kunci(input(\"Number :\")))"
   ]
  },
  {
   "cell_type": "markdown",
   "id": "9f36cdc3-d40a-43f2-b6dd-33a5f1aa7798",
   "metadata": {
    "tags": []
   },
   "source": [
    "## Lambda"
   ]
  },
  {
   "cell_type": "code",
   "execution_count": 44,
   "id": "36396d7e-257c-407c-93a8-f1e0f513e388",
   "metadata": {},
   "outputs": [
    {
     "name": "stdout",
     "output_type": "stream",
     "text": [
      "Umur 15 = remaja\n",
      "Umur 21 = bukan remaja\n"
     ]
    }
   ],
   "source": [
    "status = lambda umur : \"remaja\" if umur > 10 and umur < 20 else \"bukan remaja\"\n",
    "print(\"Umur 15 =\", status(15))\n",
    "print(\"Umur 21 =\", status(21))"
   ]
  },
  {
   "cell_type": "code",
   "execution_count": 48,
   "id": "70dfa9b0-f931-4057-ae2d-769e7323e268",
   "metadata": {},
   "outputs": [
    {
     "data": {
      "text/plain": [
       "function"
      ]
     },
     "execution_count": 48,
     "metadata": {},
     "output_type": "execute_result"
    }
   ],
   "source": [
    "type(status)"
   ]
  },
  {
   "cell_type": "markdown",
   "id": "72169b1c-0610-4ed2-92f2-ba80e76d2fc3",
   "metadata": {
    "tags": []
   },
   "source": [
    "## Module"
   ]
  },
  {
   "cell_type": "code",
   "execution_count": 49,
   "id": "2098332d-7ff1-4d05-873a-9da914c8dacc",
   "metadata": {},
   "outputs": [],
   "source": [
    "## Buat 1 file berisi fungsi\n",
    "## Misal function1.py\n",
    "def addition (x, y) :\n",
    "    return x + y\n",
    "\n",
    "def multiplication (x, y) :\n",
    "    return x * y"
   ]
  },
  {
   "cell_type": "code",
   "execution_count": null,
   "id": "49b95df2-8957-4c38-b077-1491e5e8e5c6",
   "metadata": {},
   "outputs": [],
   "source": [
    "Memanggil fungsi\n",
    "## 1\n",
    "import function1\n",
    "x = file1.addition(4, 5)\n",
    "print(x)\n",
    "\n",
    "## 2\n",
    "from function1 import multiplication\n",
    "y = multiplication (3, 4)\n",
    "print(y)"
   ]
  },
  {
   "cell_type": "markdown",
   "id": "17f7e0e9-f393-4575-b960-d4b5ecbf8a59",
   "metadata": {
    "tags": []
   },
   "source": [
    "## Class"
   ]
  },
  {
   "cell_type": "code",
   "execution_count": 19,
   "id": "326fe659-0e3e-4a38-93c6-f2a32eebcb8d",
   "metadata": {},
   "outputs": [
    {
     "name": "stdout",
     "output_type": "stream",
     "text": [
      "Sirutobing lagi melakukan aktifitas\n"
     ]
    },
    {
     "data": {
      "text/plain": [
       "'Roy Andhika Satria'"
      ]
     },
     "execution_count": 19,
     "metadata": {},
     "output_type": "execute_result"
    }
   ],
   "source": [
    "class mahasiswa():\n",
    "    \n",
    "    def __init__(self, nama_input, rumah_input):\n",
    "        self.nama = nama_input\n",
    "        self.rumah = rumah_input\n",
    "        \n",
    "    def kegiatan(self):\n",
    "        print(f\"{self.nama} lagi melakukan aktifitas\")\n",
    "\n",
    "        \n",
    "roi = mahasiswa(\"Roy Andhika Satria\", \"Tegal\")\n",
    "andre = mahasiswa(\"Andre Taugaksi\", \"Jekarte\")\n",
    "sitop = mahasiswa(\"Sirutobing\", \"Madiun\")\n",
    "\n",
    "sitop.kegiatan()\n",
    "roi.nama"
   ]
  },
  {
   "cell_type": "code",
   "execution_count": 26,
   "id": "8e754bc5-4eca-404b-a8cc-989831a2729e",
   "metadata": {},
   "outputs": [
    {
     "name": "stdout",
     "output_type": "stream",
     "text": [
      "Roy sedang Nganggur.\n"
     ]
    }
   ],
   "source": [
    "class ID():\n",
    "    \n",
    "    def __init__(self, xnama, xgender, xjob):\n",
    "        self.nama = xnama\n",
    "        self.gender = xgender\n",
    "        self.job = xjob\n",
    "    \n",
    "    def kerja(self):\n",
    "        print(f\"{self.nama} sedang {self.job}.\")\n",
    "        \n",
    "r001 = ID(\"Roy\", \"L\", \"Nganggur\")\n",
    "r002 = ID(\"Joni\", \"L\", \"Mahasiwa\")\n",
    "\n",
    "r001.kerja()"
   ]
  },
  {
   "cell_type": "code",
   "execution_count": 41,
   "id": "a425deae-5a0f-4fe5-88f8-1f4e5145d68c",
   "metadata": {},
   "outputs": [
    {
     "name": "stdout",
     "output_type": "stream",
     "text": [
      "I'd like a Large pizza with a Beef and Cheese,\n",
      " and that would be $ 5.30\n",
      "I'd like a Medium pizza with a Chichen and Beef,\n",
      " and that would be $ 6.50\n",
      "I'd like a Large pizza with a Pineapple and Salad,\n",
      " and that would be $ 8.50\n"
     ]
    }
   ],
   "source": [
    "class pizza():\n",
    "    def __init__(self, ukuran, topping1, topping2, harga):\n",
    "        self.size = ukuran\n",
    "        self.topping = topping1 + \" and \" + topping2\n",
    "        self.price = harga\n",
    "        \n",
    "    def order(self):\n",
    "        print(f\"I'd like a {self.size} pizza with a {self.topping},\\n and that would be {self.price}\")\n",
    "\n",
    "p1 = pizza(\"Large\", \"Beef\", \"Cheese\", \"$ 5.30\")\n",
    "p2 = pizza(\"Medium\", \"Chichen\", \"Beef\", \"$ 6.50\")\n",
    "p3 = pizza(\"Large\", \"Pineapple\", \"Salad\", \"$ 8.50\")\n",
    "\n",
    "p1.order()\n",
    "p2.order()\n",
    "p3.order()"
   ]
  },
  {
   "cell_type": "code",
   "execution_count": null,
   "id": "1b4d0c1a-552b-44b3-872d-1af75a10ece0",
   "metadata": {},
   "outputs": [],
   "source": []
  }
 ],
 "metadata": {
  "kernelspec": {
   "display_name": "Python 3 (ipykernel)",
   "language": "python",
   "name": "python3"
  },
  "language_info": {
   "codemirror_mode": {
    "name": "ipython",
    "version": 3
   },
   "file_extension": ".py",
   "mimetype": "text/x-python",
   "name": "python",
   "nbconvert_exporter": "python",
   "pygments_lexer": "ipython3",
   "version": "3.9.12"
  },
  "toc-autonumbering": false,
  "toc-showcode": false,
  "toc-showmarkdowntxt": false,
  "toc-showtags": false
 },
 "nbformat": 4,
 "nbformat_minor": 5
}
