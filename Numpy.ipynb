{
 "cells": [
  {
   "cell_type": "markdown",
   "id": "b537de94-2c6c-4762-ab4c-2d79a1ae165c",
   "metadata": {},
   "source": [
    "# Numpy"
   ]
  },
  {
   "cell_type": "code",
   "execution_count": 2,
   "id": "288bb5a7-113a-4029-823e-0b06f017639e",
   "metadata": {},
   "outputs": [
    {
     "name": "stdout",
     "output_type": "stream",
     "text": [
      "1.22.3\n"
     ]
    }
   ],
   "source": [
    "import numpy as np\n",
    "print(np.__version__)"
   ]
  },
  {
   "cell_type": "markdown",
   "id": "448cabca-c5d5-4382-a2d3-afc7c817fca2",
   "metadata": {
    "tags": []
   },
   "source": [
    "## Numpy Array"
   ]
  },
  {
   "cell_type": "markdown",
   "id": "aee01ec1-fb17-4751-8c97-eb063d16a87f",
   "metadata": {},
   "source": [
    "> Perbedaan paling mendasar adalah array dari numpy = **elementwise**"
   ]
  },
  {
   "cell_type": "code",
   "execution_count": 78,
   "id": "ee868a40-af3e-4320-8e3b-091d5a269e46",
   "metadata": {},
   "outputs": [
    {
     "name": "stdout",
     "output_type": "stream",
     "text": [
      "[1, 2, 3, 4, 5]\n",
      "[1, 3, 5, 7, 11]\n",
      "[1 2 3 4 5]\n",
      "[ 1  3  5  7 11]\n"
     ]
    },
    {
     "data": {
      "text/plain": [
       "(5,)"
      ]
     },
     "execution_count": 78,
     "metadata": {},
     "output_type": "execute_result"
    }
   ],
   "source": [
    "a = [1, 2, 3, 4, 5]\n",
    "b = [1, 3, 5, 7, 11]\n",
    "\n",
    "anp = np.array([1, 2, 3, 4, 5])\n",
    "bnp = np.array([1, 3, 5, 7, 11])\n",
    "\n",
    "print(a)\n",
    "print(b)\n",
    "print(anp)\n",
    "print(bnp)\n",
    "bnp.shape"
   ]
  },
  {
   "cell_type": "code",
   "execution_count": 79,
   "id": "05c2333e-e41c-4746-be10-760a57ae7ec9",
   "metadata": {},
   "outputs": [
    {
     "name": "stdout",
     "output_type": "stream",
     "text": [
      "[[1 2 3]\n",
      " [4 5 6]\n",
      " [7 8 9]]\n"
     ]
    },
    {
     "data": {
      "text/plain": [
       "(3, 3)"
      ]
     },
     "execution_count": 79,
     "metadata": {},
     "output_type": "execute_result"
    }
   ],
   "source": [
    "cnp = np.array(([1,2,3], [4,5,6], [7,8,9]))\n",
    "print(cnp)\n",
    "cnp.shape"
   ]
  },
  {
   "cell_type": "markdown",
   "id": "7bc7ef66-88a2-4e50-911a-a3186cedad5e",
   "metadata": {},
   "source": [
    "> Array bawaan python **tidak bisa** menggunakan aritmatika"
   ]
  },
  {
   "cell_type": "code",
   "execution_count": 41,
   "id": "201e7993-0a5a-4a75-ae84-a989023a1db4",
   "metadata": {},
   "outputs": [
    {
     "name": "stdout",
     "output_type": "stream",
     "text": [
      "[1, 2, 3, 4, 5, 1]\n",
      "[2 3 4 5 6]\n"
     ]
    }
   ],
   "source": [
    "a += [1]\n",
    "anp += 1\n",
    "print(a)\n",
    "print(anp)"
   ]
  },
  {
   "cell_type": "code",
   "execution_count": 67,
   "id": "4245efb6-296b-4d2b-9e01-e0ece6abc4d3",
   "metadata": {},
   "outputs": [
    {
     "name": "stdout",
     "output_type": "stream",
     "text": [
      "[[0. 0. 0.]\n",
      " [0. 0. 0.]]\n",
      "\n",
      " [[1. 1.]\n",
      " [1. 1.]\n",
      " [1. 1.]]\n",
      "\n",
      " [[1. 0. 0.]\n",
      " [0. 1. 0.]\n",
      " [0. 0. 1.]]\n",
      "\n",
      " [[1. 0. 0.]\n",
      " [0. 1. 0.]\n",
      " [0. 0. 1.]]\n"
     ]
    }
   ],
   "source": [
    "# matrix 0, matrix 1, dan indentitas\n",
    "\n",
    "zero = np.zeros([2,3])\n",
    "print(zero)\n",
    "\n",
    "one = np.ones([3,2])\n",
    "print(\"\\n\", one)\n",
    "\n",
    "identits = np.identity(3)\n",
    "identits2 = np.eye(3)\n",
    "print(\"\\n\", identits)\n",
    "print(\"\\n\", identits2)"
   ]
  },
  {
   "cell_type": "code",
   "execution_count": 64,
   "id": "a37b3aff-aed3-4e00-b5c8-17cc8b48a4ba",
   "metadata": {},
   "outputs": [
    {
     "name": "stdout",
     "output_type": "stream",
     "text": [
      "[1 2 3 4 5]\n",
      "[1. 3. 5. 7.]\n"
     ]
    }
   ],
   "source": [
    "# np.array dengan range dan linspace\n",
    "\n",
    "reng = np.arange(1, 6, 1)\n",
    "linspes = np.linspace(1, 7, 4)\n",
    "\n",
    "print(reng)\n",
    "print(linspes)"
   ]
  },
  {
   "cell_type": "markdown",
   "id": "c3341ef7-6bbb-457c-8312-d08c4cedd6a7",
   "metadata": {
    "tags": []
   },
   "source": [
    "## Aritmatika"
   ]
  },
  {
   "cell_type": "code",
   "execution_count": 13,
   "id": "600c06b2-705e-40bd-b1ea-62ec52b36f32",
   "metadata": {},
   "outputs": [
    {
     "name": "stdout",
     "output_type": "stream",
     "text": [
      "[1, 2, 3, 4, 5]\n",
      "[1, 3, 5, 7, 11]\n",
      "[1 2 3 4 5]\n",
      "[ 1  3  5  7 11]\n"
     ]
    }
   ],
   "source": [
    "a = [1, 2, 3, 4, 5]\n",
    "b = [1, 3, 5, 7, 11]\n",
    "\n",
    "anp = np.array([1, 2, 3, 4, 5])\n",
    "bnp = np.array([1, 3, 5, 7, 11])\n",
    "\n",
    "print(a)\n",
    "print(b)\n",
    "print(anp)\n",
    "print(bnp)"
   ]
  },
  {
   "cell_type": "code",
   "execution_count": 15,
   "id": "128304e7-ae31-41e7-806e-f777e8dd0526",
   "metadata": {},
   "outputs": [
    {
     "name": "stdout",
     "output_type": "stream",
     "text": [
      "[1, 2, 3, 4, 5, 1, 3, 5, 7, 11]\n"
     ]
    }
   ],
   "source": [
    "c = a + b\n",
    "print(c)"
   ]
  },
  {
   "cell_type": "code",
   "execution_count": 25,
   "id": "d2496615-13ce-40ee-ba7c-5345e0564e91",
   "metadata": {},
   "outputs": [
    {
     "name": "stdout",
     "output_type": "stream",
     "text": [
      "[ 2  5  8 11 16]\n",
      "[ 0 -1 -2 -3 -6]\n",
      "[ 1  6 15 28 55]\n",
      "[1.         0.66666667 0.6        0.57142857 0.45454545]\n",
      "[ 1  4  9 16 25]\n"
     ]
    }
   ],
   "source": [
    "print(anp + bnp)\n",
    "print(anp - bnp)\n",
    "print(anp * bnp)\n",
    "print(anp / bnp)\n",
    "print(anp ** 2)"
   ]
  },
  {
   "cell_type": "code",
   "execution_count": 23,
   "id": "daa1fca6-a4d4-47b1-b520-c50d3daf1e85",
   "metadata": {},
   "outputs": [],
   "source": [
    "cnp = np.array(([1,2,3], [4,5,6], [7,8,9]))\n",
    "dnp = np.array(([4,5,6], [1,2,3], [7,8,9]))"
   ]
  },
  {
   "cell_type": "code",
   "execution_count": 24,
   "id": "21dd6268-2e66-4c3a-b0ed-7ebdc8dfcb22",
   "metadata": {},
   "outputs": [
    {
     "name": "stdout",
     "output_type": "stream",
     "text": [
      "[[ 5  7  9]\n",
      " [ 5  7  9]\n",
      " [14 16 18]]\n"
     ]
    }
   ],
   "source": [
    "print(cnp + dnp)"
   ]
  },
  {
   "cell_type": "markdown",
   "id": "ac5cb66b-0acb-4d36-a228-1a7ac5af0e61",
   "metadata": {
    "tags": []
   },
   "source": [
    "## Index, Slicing, Iteration"
   ]
  },
  {
   "cell_type": "code",
   "execution_count": 30,
   "id": "13a02ce6-0b36-4d8a-b28a-70af37ebe9d5",
   "metadata": {},
   "outputs": [
    {
     "name": "stdout",
     "output_type": "stream",
     "text": [
      "elemen ke 1 anp = 1\n",
      "elemen ke 3 anp = 3\n",
      "elemen ke 5 bnp = 5\n"
     ]
    }
   ],
   "source": [
    "anp = np.array([1, 2, 3, 4, 5])\n",
    "bnp = np.array([1, 3, 5, 7, 11])\n",
    "\n",
    "print(f\"elemen ke 1 anp = {anp[0]}\")\n",
    "print(f\"elemen ke 3 anp = {anp[2]}\")\n",
    "print(f\"elemen ke 5 bnp = {anp[4]}\")"
   ]
  },
  {
   "cell_type": "code",
   "execution_count": 36,
   "id": "5ac8b5a7-3f1f-4e4b-8fe7-1947fae116ba",
   "metadata": {},
   "outputs": [
    {
     "name": "stdout",
     "output_type": "stream",
     "text": [
      "elemen ke 1-3 anp = [1 2 3]\n",
      "elemen ke 2-3 anp = [2 3]\n",
      "elemen ke 5 anp = [5]\n"
     ]
    }
   ],
   "source": [
    "print(f\"elemen ke 1-3 anp = {anp[:3]}\")\n",
    "print(f\"elemen ke 2-3 anp = {anp[1:3]}\")\n",
    "print(f\"elemen ke 5 anp = {anp[4:]}\")"
   ]
  },
  {
   "cell_type": "code",
   "execution_count": 38,
   "id": "a2238546-e09f-45b1-a723-5fccb34c45fa",
   "metadata": {},
   "outputs": [
    {
     "name": "stdout",
     "output_type": "stream",
     "text": [
      "value i = 1\n",
      "value i = 3\n",
      "value i = 5\n",
      "value i = 7\n",
      "value i = 11\n"
     ]
    }
   ],
   "source": [
    "for i in bnp :\n",
    "    print(\"value i =\", i)"
   ]
  },
  {
   "cell_type": "markdown",
   "id": "d3f19332-24ff-46a3-a708-b7b4d36b1c16",
   "metadata": {
    "tags": []
   },
   "source": [
    "## Matriks"
   ]
  },
  {
   "cell_type": "code",
   "execution_count": 81,
   "id": "049a6786-cbed-46da-87d5-667bc234b464",
   "metadata": {},
   "outputs": [],
   "source": [
    "cnp = np.array(([1,2,3], \n",
    "                [4,5,6], \n",
    "                [7,8,9]))\n",
    "\n",
    "dnp = np.array(([4,5,6], \n",
    "                [1,2,3], \n",
    "                [7,8,9]))"
   ]
  },
  {
   "cell_type": "code",
   "execution_count": 82,
   "id": "a6835a44-db93-47e7-ba25-47c1a32f0575",
   "metadata": {},
   "outputs": [
    {
     "name": "stdout",
     "output_type": "stream",
     "text": [
      "[[ 27  33  39]\n",
      " [ 63  78  93]\n",
      " [ 99 123 147]] \n",
      "\n",
      " [[ 27  33  39]\n",
      " [ 63  78  93]\n",
      " [ 99 123 147]]\n"
     ]
    }
   ],
   "source": [
    "# perkalian matrixx menggunakan fungsi .dot\n",
    "f = np.dot(cnp, dnp)\n",
    "g = cnp.dot(dnp)\n",
    "\n",
    "print(f, \"\\n\\n\", g)"
   ]
  },
  {
   "cell_type": "markdown",
   "id": "63f82f71-ad90-437a-bc33-8ce14ddae3d5",
   "metadata": {
    "tags": []
   },
   "source": [
    "### Tranpose"
   ]
  },
  {
   "cell_type": "code",
   "execution_count": 6,
   "id": "84428837-4b0d-47e8-bade-e9dd121e742e",
   "metadata": {},
   "outputs": [
    {
     "name": "stdout",
     "output_type": "stream",
     "text": [
      "anp = (2, 3)\n",
      "bnp = (3, 2)\n",
      "\n",
      " [[1 2 3]\n",
      " [4 5 6]]\n",
      "\n",
      " [[1 4]\n",
      " [2 5]\n",
      " [3 6]]\n"
     ]
    }
   ],
   "source": [
    "anp = np.array(([1,2,3], \n",
    "                [4,5,6]))\n",
    "print(\"anp =\", anp.shape)\n",
    "\n",
    "bnp = anp.transpose()\n",
    "print(\"bnp =\", bnp.shape)\n",
    "\n",
    "print(\"\\n\",anp)\n",
    "print(\"\\n\",bnp)"
   ]
  },
  {
   "cell_type": "markdown",
   "id": "6ed7e36e-8171-4c8d-89a5-7caa2ec8dc29",
   "metadata": {
    "tags": []
   },
   "source": [
    "### Flatten, Reshape, Resize"
   ]
  },
  {
   "cell_type": "code",
   "execution_count": 7,
   "id": "28cccf3c-6e2a-40ef-9032-dd60721680a5",
   "metadata": {},
   "outputs": [
    {
     "name": "stdout",
     "output_type": "stream",
     "text": [
      "[1 2 3 4 5 6]\n",
      "[1 2 3 4 5 6]\n",
      "[1 2 3 4 5 6]\n"
     ]
    }
   ],
   "source": [
    "print(np.ravel(anp))\n",
    "print(anp.ravel())\n",
    "print(anp.flatten())"
   ]
  },
  {
   "cell_type": "code",
   "execution_count": 106,
   "id": "33d9fbe5-53ea-439e-9dae-f7e7bd7e4b29",
   "metadata": {},
   "outputs": [
    {
     "name": "stdout",
     "output_type": "stream",
     "text": [
      "[[1]\n",
      " [2]\n",
      " [3]\n",
      " [4]\n",
      " [5]\n",
      " [6]]\n",
      "[[1 2 3]\n",
      " [4 5 6]]\n"
     ]
    }
   ],
   "source": [
    "print(anp.reshape(6,1))\n",
    "print(anp)"
   ]
  },
  {
   "cell_type": "code",
   "execution_count": 107,
   "id": "76915952-ed59-48d9-885e-4ca877e2578b",
   "metadata": {},
   "outputs": [
    {
     "name": "stdout",
     "output_type": "stream",
     "text": [
      "[[1]\n",
      " [2]\n",
      " [3]\n",
      " [4]\n",
      " [5]\n",
      " [6]]\n"
     ]
    }
   ],
   "source": [
    "anp.resize(6,1)\n",
    "print(anp)"
   ]
  },
  {
   "cell_type": "markdown",
   "id": "2edd98da-8cbb-48a8-8ffa-f1012bf40bad",
   "metadata": {
    "tags": []
   },
   "source": [
    "### Stacking"
   ]
  },
  {
   "cell_type": "code",
   "execution_count": 17,
   "id": "70de8f7e-4279-48e9-8042-5b3a08c5fd3c",
   "metadata": {},
   "outputs": [
    {
     "name": "stdout",
     "output_type": "stream",
     "text": [
      "[[0. 0. 0. 1. 1. 1.]\n",
      " [0. 0. 0. 1. 1. 1.]\n",
      " [0. 0. 0. 1. 1. 1.]]\n",
      "\n",
      " [[0. 0. 0.]\n",
      " [0. 0. 0.]\n",
      " [0. 0. 0.]\n",
      " [1. 1. 1.]\n",
      " [1. 1. 1.]\n",
      " [1. 1. 1.]]\n"
     ]
    }
   ],
   "source": [
    "# Hstack dan Vstack\n",
    "a = np.zeros((3,3))\n",
    "b = np.ones((3,3))\n",
    "\n",
    "print(np.hstack((a, b)))\n",
    "print(\"\\n\", np.vstack((a, b)))"
   ]
  },
  {
   "cell_type": "code",
   "execution_count": 16,
   "id": "1ace7811-2548-4531-b825-7848999259d1",
   "metadata": {},
   "outputs": [
    {
     "data": {
      "text/plain": [
       "array([[0., 0., 0., 0.],\n",
       "       [0., 0., 0., 0.],\n",
       "       [0., 0., 0., 0.],\n",
       "       [0., 0., 0., 0.],\n",
       "       [1., 1., 1., 1.],\n",
       "       [1., 1., 1., 1.],\n",
       "       [1., 1., 1., 1.],\n",
       "       [1., 1., 1., 1.]])"
      ]
     },
     "execution_count": 16,
     "metadata": {},
     "output_type": "execute_result"
    }
   ],
   "source": [
    "# concat di sini sama dengan hstack/vstack\n",
    "x = np.zeros((4,4))\n",
    "y = np.ones((4,4))\n",
    "np.concatenate([x, y] ,axis = 0)"
   ]
  },
  {
   "cell_type": "code",
   "execution_count": 113,
   "id": "48abd34e-d58d-4777-8417-8701fec433a5",
   "metadata": {},
   "outputs": [
    {
     "name": "stdout",
     "output_type": "stream",
     "text": [
      "[1 2 3 4 5 6]\n",
      "\n",
      " [[1 2 3]\n",
      " [4 5 6]]\n"
     ]
    }
   ],
   "source": [
    "a = np.arange(1,4,1)\n",
    "b = np.arange(4,7,1)\n",
    "\n",
    "print((np.hstack((a, b))))\n",
    "print(\"\\n\", np.vstack((a, b)))"
   ]
  },
  {
   "cell_type": "markdown",
   "id": "e29778fd-92b5-49f1-9bec-1606fb7b0138",
   "metadata": {
    "tags": []
   },
   "source": [
    "### Advanced Array Creation"
   ]
  },
  {
   "cell_type": "code",
   "execution_count": 5,
   "id": "4da9f97f-6b0a-44a6-92af-2b2733a87765",
   "metadata": {},
   "outputs": [
    {
     "name": "stdout",
     "output_type": "stream",
     "text": [
      "[[1 2 3]\n",
      " [4 5 6]]\n"
     ]
    }
   ],
   "source": [
    "# dengan tipe data tertentu\n",
    "\n",
    "a = np.array(([1,2,3], [4,5,6]), dtype = object)\n",
    "print(a)"
   ]
  },
  {
   "cell_type": "code",
   "execution_count": 6,
   "id": "7b7e8681-dda5-4676-892c-8e7e4a08c6e1",
   "metadata": {},
   "outputs": [
    {
     "name": "stdout",
     "output_type": "stream",
     "text": [
      "[[2. 3. 4. 5. 6.]]\n"
     ]
    }
   ],
   "source": [
    "# array dengan function\n",
    "\n",
    "def kuadrat(baris, kolom) :\n",
    "    return (baris+1) * (kolom+2)\n",
    "\n",
    "a = np.fromfunction(kuadrat, [1,5], dtype = int)\n",
    "print(a)"
   ]
  },
  {
   "cell_type": "code",
   "execution_count": 126,
   "id": "e2fb237d-a05c-4c0e-b456-5a5beef375b9",
   "metadata": {},
   "outputs": [
    {
     "name": "stdout",
     "output_type": "stream",
     "text": [
      "[[ 2  3  4  5  6]\n",
      " [ 4  6  8 10 12]\n",
      " [ 6  9 12 15 18]]\n"
     ]
    }
   ],
   "source": [
    "def kuadrat(baris, kolom) :\n",
    "    return (baris+1) * (kolom+2)\n",
    "\n",
    "a = np.fromfunction(kuadrat, [3,5], dtype = int)\n",
    "print(a)"
   ]
  },
  {
   "cell_type": "code",
   "execution_count": 7,
   "id": "6dc59f7c-ef15-4f62-a492-9d03c2bb8693",
   "metadata": {},
   "outputs": [
    {
     "name": "stdout",
     "output_type": "stream",
     "text": [
      "<generator object <genexpr> at 0x000001D4A0AF45F0>\n",
      "[0 2 4 6 8]\n"
     ]
    }
   ],
   "source": [
    "# array dengan iterable\n",
    "\n",
    "a = (x+x for x in range(5))\n",
    "\n",
    "b = np.fromiter(a, dtype = int)\n",
    "\n",
    "print(a)\n",
    "print(b)"
   ]
  },
  {
   "cell_type": "code",
   "execution_count": 11,
   "id": "95b9a437-57f3-4da1-bfe9-adb8950a4705",
   "metadata": {},
   "outputs": [
    {
     "name": "stdout",
     "output_type": "stream",
     "text": [
      "[('Roi', 175.) ('Andiko', 180.) ('Satroi', 170.)]\n"
     ]
    }
   ],
   "source": [
    "# multi type array\n",
    "\n",
    "tipedata = [('nama', object), ('tinggi', float)]\n",
    "\n",
    "data = [('Roi', 175), ('Andiko', 180), ('Satroi', 170)]\n",
    "\n",
    "a = np.array(data, dtype = tipedata)\n",
    "print(a)"
   ]
  },
  {
   "cell_type": "markdown",
   "id": "15cb0014-5bf7-4f48-b7ae-69cf82f691a5",
   "metadata": {
    "tags": []
   },
   "source": [
    "## Ordering"
   ]
  },
  {
   "cell_type": "markdown",
   "id": "297db46b-9e15-480e-8b3c-5099ca6502e0",
   "metadata": {
    "tags": []
   },
   "source": [
    "### Single Array"
   ]
  },
  {
   "cell_type": "code",
   "execution_count": 149,
   "id": "f430c744-210e-46c9-b77f-bbc433692579",
   "metadata": {},
   "outputs": [
    {
     "name": "stdout",
     "output_type": "stream",
     "text": [
      "[[-0.85951471 -1.38278781  0.82530648  1.36199829  1.26683397  0.46138042]]\n"
     ]
    }
   ],
   "source": [
    "a = np.random.randn(1,6)\n",
    "print(a)"
   ]
  },
  {
   "cell_type": "code",
   "execution_count": 169,
   "id": "7e44eb57-8fc6-42b5-8d39-ff0707a5b10c",
   "metadata": {},
   "outputs": [
    {
     "name": "stdout",
     "output_type": "stream",
     "text": [
      "[[  6. -15.  -8.  -3.  -6.  23.]]\n"
     ]
    }
   ],
   "source": [
    "b = np.ceil(np.random.randn(1,6)*10)\n",
    "print(b)"
   ]
  },
  {
   "cell_type": "code",
   "execution_count": 170,
   "id": "b2dc0c1d-9dda-441c-a134-33ab8b4aadec",
   "metadata": {},
   "outputs": [
    {
     "name": "stdout",
     "output_type": "stream",
     "text": [
      "nilai max = 23.0\n",
      "posisi max = 5\n",
      "nilai min = -15.0\n",
      "posisi min = 1\n"
     ]
    }
   ],
   "source": [
    "print(\"nilai max =\", b.max())\n",
    "print(\"posisi max =\", b.argmax())\n",
    "print(\"nilai min =\", b.min())\n",
    "print(\"posisi min =\", b.argmin())"
   ]
  },
  {
   "cell_type": "code",
   "execution_count": 175,
   "id": "f40fd32d-379f-4143-9486-5e336d3a7967",
   "metadata": {},
   "outputs": [
    {
     "name": "stdout",
     "output_type": "stream",
     "text": [
      "mengurutkan b : \n",
      " [[-15.  -8.  -6.  -3.   6.  23.]]\n",
      "posisi terurut b : \n",
      " [[1 2 4 3 0 5]]\n"
     ]
    }
   ],
   "source": [
    "print(\"mengurutkan b :\", \"\\n\", np.sort(b))\n",
    "print(\"posisi terurut b :\", \"\\n\", np.argsort(b))"
   ]
  },
  {
   "cell_type": "markdown",
   "id": "de814741-13ee-4d29-88f2-5fdfca9a182b",
   "metadata": {
    "tags": []
   },
   "source": [
    "### Multi Array"
   ]
  },
  {
   "cell_type": "code",
   "execution_count": 178,
   "id": "970dbb38-6021-4d38-9cab-a6d88a4208c6",
   "metadata": {},
   "outputs": [
    {
     "name": "stdout",
     "output_type": "stream",
     "text": [
      "[[-12.   1.  -4.  -5.   7.]\n",
      " [  9. -15.   4.  -1.  -4.]\n",
      " [-22.   9. -12.   5.   2.]]\n"
     ]
    }
   ],
   "source": [
    "c = np.ceil(np.random.randn(3,5)*10)\n",
    "print(c)"
   ]
  },
  {
   "cell_type": "code",
   "execution_count": 179,
   "id": "a047c582-33cb-4b4e-a8db-fe858ad42114",
   "metadata": {},
   "outputs": [
    {
     "name": "stdout",
     "output_type": "stream",
     "text": [
      "nilai max = 9.0\n",
      "posisi max = 5\n",
      "nilai min = -22.0\n",
      "posisi min = 10\n"
     ]
    }
   ],
   "source": [
    "print(\"nilai max =\", c.max())\n",
    "print(\"posisi max =\", c.argmax())\n",
    "print(\"nilai min =\", c.min())\n",
    "print(\"posisi min =\", c.argmin())"
   ]
  },
  {
   "cell_type": "code",
   "execution_count": 180,
   "id": "0b08da03-5b69-43c5-b765-c6cf343dad84",
   "metadata": {},
   "outputs": [
    {
     "name": "stdout",
     "output_type": "stream",
     "text": [
      "mengurutkan c : \n",
      " [[-12.  -5.  -4.   1.   7.]\n",
      " [-15.  -4.  -1.   4.   9.]\n",
      " [-22. -12.   2.   5.   9.]]\n",
      "posisi terurut c : \n",
      " [[0 3 2 1 4]\n",
      " [1 4 3 2 0]\n",
      " [0 2 4 3 1]]\n"
     ]
    }
   ],
   "source": [
    "print(\"mengurutkan c :\", \"\\n\", np.sort(c))\n",
    "print(\"posisi terurut c :\", \"\\n\", np.argsort(c))"
   ]
  },
  {
   "cell_type": "markdown",
   "id": "06d4d191-526e-489c-afd4-4d060628f889",
   "metadata": {
    "tags": []
   },
   "source": [
    "### Multi type data"
   ]
  },
  {
   "cell_type": "code",
   "execution_count": 14,
   "id": "c280ae85-b9b9-4e31-a984-bbfbae9a667e",
   "metadata": {},
   "outputs": [
    {
     "name": "stdout",
     "output_type": "stream",
     "text": [
      "[(b'Acup', 185) (b'Otong', 170) (b'Yaoming', 210)]\n"
     ]
    }
   ],
   "source": [
    "dtipe = [('nama', 'S10'), ('tinggi', int)]\n",
    "data = [('Acup', 185), ('Otong', 170), ('Yaoming', 210)]\n",
    "\n",
    "g = np.array(data, dtype = dtipe)\n",
    "print(g)"
   ]
  },
  {
   "cell_type": "code",
   "execution_count": 16,
   "id": "d84199dd-94e8-4215-8bf9-12aa6e5b1091",
   "metadata": {},
   "outputs": [
    {
     "name": "stdout",
     "output_type": "stream",
     "text": [
      "[(b'Otong', 170) (b'Acup', 185) (b'Yaoming', 210)]\n"
     ]
    }
   ],
   "source": [
    "print(np.sort(g, order = 'tinggi'))"
   ]
  },
  {
   "cell_type": "code",
   "execution_count": null,
   "id": "1d4df1d7-7945-4de6-a095-65289830630c",
   "metadata": {},
   "outputs": [],
   "source": []
  }
 ],
 "metadata": {
  "kernelspec": {
   "display_name": "Python 3 (ipykernel)",
   "language": "python",
   "name": "python3"
  },
  "language_info": {
   "codemirror_mode": {
    "name": "ipython",
    "version": 3
   },
   "file_extension": ".py",
   "mimetype": "text/x-python",
   "name": "python",
   "nbconvert_exporter": "python",
   "pygments_lexer": "ipython3",
   "version": "3.9.12"
  }
 },
 "nbformat": 4,
 "nbformat_minor": 5
}
