{
 "cells": [
  {
   "cell_type": "markdown",
   "id": "1f08597f-f8be-4351-b841-f3380647713a",
   "metadata": {},
   "source": [
    "# Python"
   ]
  },
  {
   "cell_type": "markdown",
   "id": "d78867fa-364f-41b7-a5aa-9acf65d89327",
   "metadata": {
    "jp-MarkdownHeadingCollapsed": true,
    "tags": []
   },
   "source": [
    "## Print"
   ]
  },
  {
   "cell_type": "code",
   "execution_count": 1,
   "id": "a545b52e-00c8-4e11-8290-592cf2933f25",
   "metadata": {},
   "outputs": [
    {
     "name": "stdout",
     "output_type": "stream",
     "text": [
      "Hello World\n",
      "Hi, too\n",
      "Ore no Namae wa\n",
      "Nanii??!\n",
      "Hello, 'I said', \"what?\" He said.\n"
     ]
    }
   ],
   "source": [
    "print('Hello World')\n",
    "print(\"Hi, too\")\n",
    "print(\"Ore no Namae wa\")\n",
    "print('Nanii??!')\n",
    "print(\"\"\"Hello, 'I said', \"what?\" He said.\"\"\")"
   ]
  },
  {
   "cell_type": "markdown",
   "id": "89644688-4434-4366-9db7-33fe3b123bcb",
   "metadata": {
    "jp-MarkdownHeadingCollapsed": true,
    "tags": []
   },
   "source": [
    "## Data type"
   ]
  },
  {
   "cell_type": "markdown",
   "id": "fe31078b-fd3f-46fb-a24c-6db966fc3c3f",
   "metadata": {},
   "source": [
    "- string\n",
    "- float\n",
    "- integer\n",
    "- boolean"
   ]
  },
  {
   "cell_type": "code",
   "execution_count": 2,
   "id": "e81504e0-ed84-4d3a-90d3-159c7f980e24",
   "metadata": {},
   "outputs": [
    {
     "name": "stdout",
     "output_type": "stream",
     "text": [
      "True\n",
      "True\n",
      "5\n",
      "5.0\n"
     ]
    }
   ],
   "source": [
    "a = 5\n",
    "teks = \"teks\"\n",
    "bulian = True\n",
    "print(bulian)\n",
    "print(str(bulian))\n",
    "print(a)\n",
    "print(float(a))"
   ]
  },
  {
   "cell_type": "code",
   "execution_count": 3,
   "id": "0f7acddb-ae78-45f9-a88c-0fe403e234cb",
   "metadata": {},
   "outputs": [
    {
     "name": "stdout",
     "output_type": "stream",
     "text": [
      "data1 : 24\n",
      "-tipe : <class 'int'>\n"
     ]
    }
   ],
   "source": [
    "data1 = 24\n",
    "print(\"data1 :\", data1)\n",
    "print(\"-tipe :\", type(data1))"
   ]
  },
  {
   "cell_type": "code",
   "execution_count": 4,
   "id": "64e1385a-4d72-43ba-84a2-25c89a353fe1",
   "metadata": {},
   "outputs": [
    {
     "name": "stdout",
     "output_type": "stream",
     "text": [
      "data_int = 25 --- tipe = <class 'int'>\n",
      "data_float = 25.0 --- tipe = <class 'float'>\n",
      "data_str = 25 --- tipe = <class 'str'>\n",
      "data_bool = True --- tipe = <class 'bool'>\n",
      "24.2 <class 'float'>\n",
      "24\n",
      "24 <class 'int'>\n",
      "24.0 <class 'float'>\n"
     ]
    }
   ],
   "source": [
    "data_int=25\n",
    "print(\"data_int =\", data_int, \"--- tipe =\", type(data_int))\n",
    "\n",
    "data_float=float(data_int)\n",
    "print(\"data_float =\", data_float, \"--- tipe =\", type(data_float))\n",
    "\n",
    "data_str=str(data_int)\n",
    "print(\"data_str =\", data_str, \"--- tipe =\", type(data_str))\n",
    "\n",
    "data_bool=bool(data_int)\n",
    "print(\"data_bool =\", data_bool, \"--- tipe =\", type(data_bool))\n",
    "\n",
    "a = 24.2\n",
    "print(a, type(a))\n",
    "print(int(a))\n",
    "\n",
    "b = 24\n",
    "print(b, type(b))\n",
    "print(float(b), type(float(b)))"
   ]
  },
  {
   "cell_type": "markdown",
   "id": "e52e51e4-08bc-4d53-9afe-5908a893d5ba",
   "metadata": {
    "jp-MarkdownHeadingCollapsed": true,
    "tags": []
   },
   "source": [
    "## Input Data"
   ]
  },
  {
   "cell_type": "code",
   "execution_count": 6,
   "id": "17db311a-9683-4eec-8262-aae283e7f724",
   "metadata": {},
   "outputs": [
    {
     "name": "stdin",
     "output_type": "stream",
     "text": [
      "Nama :  Roy\n",
      "Umur :  24\n",
      "1 / 0 ?  1\n"
     ]
    },
    {
     "name": "stdout",
     "output_type": "stream",
     "text": [
      "Nama : Roy ---tipe : <class 'str'>\n",
      "Umur : 24 ---tipe : <class 'int'>\n",
      "Pria : True ---tipe : <class 'bool'>\n"
     ]
    }
   ],
   "source": [
    "# input data dari user\n",
    "\n",
    "# disini apapun yang diinput pasti bertipe string\n",
    "nama=input(\"Nama : \")\n",
    "\n",
    "# kalau mau integer maka harus dicasting\n",
    "umur=int(input(\"Umur : \"))\n",
    "\n",
    "\"\"\"kalau mau boolean maka harus dicast ke\n",
    "integer atau float lalu ke bool\"\"\"\n",
    "# string apapun yang dimasukkan ke bool pasti true kecuali KOSONG\n",
    "biner=bool(int(input(\"1 / 0 ? \")))\n",
    "\n",
    "print(\"Nama :\", nama, \"---tipe :\", type(nama))\n",
    "print(\"Umur :\", umur, \"---tipe :\", type(umur))\n",
    "print(\"Pria :\", biner, \"---tipe :\", type(biner))"
   ]
  },
  {
   "cell_type": "markdown",
   "id": "5193bc68-1189-4d44-ab8f-fb3e73ca892a",
   "metadata": {
    "jp-MarkdownHeadingCollapsed": true,
    "tags": []
   },
   "source": [
    "## Variables"
   ]
  },
  {
   "cell_type": "code",
   "execution_count": 7,
   "id": "4dbf496f-3ec3-4c41-b4c2-cac6114a77ac",
   "metadata": {},
   "outputs": [],
   "source": [
    "name = \"Mr. Roi\"\n",
    "object_1 = \"car\"\n",
    "color_1 = \"red\"\n",
    "object_2 = \"house\"\n",
    "age_2 = \"20 years old\""
   ]
  },
  {
   "cell_type": "code",
   "execution_count": 8,
   "id": "ce2d2a91-3ceb-4ab4-8781-f5c740a935b0",
   "metadata": {},
   "outputs": [
    {
     "name": "stdout",
     "output_type": "stream",
     "text": [
      "hello, Mr. Roi\n",
      "I am very interested by your car, is it red ?\n",
      "also Mr. Roi, is your house older than 20 years old ?\n",
      "thank you Mr. Roi\n"
     ]
    }
   ],
   "source": [
    "print(\"hello, \" + name)\n",
    "print(\"I am very interested by your \" + object_1 + \", is it \" + color_1 + \" ?\")\n",
    "print(\"also \" + name + \", is your \" + object_2 + \" older than \" + age_2 + \" ?\")\n",
    "print(\"thank you \" + name)"
   ]
  },
  {
   "cell_type": "code",
   "execution_count": 9,
   "id": "2a2d6f4e-d720-4e81-b847-b2372497d924",
   "metadata": {},
   "outputs": [],
   "source": [
    "name = \"Mr. Dickydick\"\n",
    "object_1 = \"donk\"\n",
    "color_1 = \"black\"\n",
    "object_2 = \"peepee\"\n",
    "age_2 = \"20 days old\""
   ]
  },
  {
   "cell_type": "code",
   "execution_count": 10,
   "id": "64177e1a-1901-4bc5-a338-0849ad95fd54",
   "metadata": {},
   "outputs": [
    {
     "name": "stdout",
     "output_type": "stream",
     "text": [
      "hello, Mr. Dickydick\n",
      "I am very interested by your donk, is it black ?\n",
      "also Mr. Dickydick, is your peepee older than 20 days old ?\n",
      "thank you Mr. Dickydick\n"
     ]
    }
   ],
   "source": [
    "print(\"hello, \" + name)\n",
    "print(\"I am very interested by your \" + object_1 + \", is it \" + color_1 + \" ?\")\n",
    "print(\"also \" + name + \", is your \" + object_2 + \" older than \" + age_2 + \" ?\")\n",
    "print(\"thank you \" + name)"
   ]
  },
  {
   "cell_type": "code",
   "execution_count": 13,
   "id": "4b4d42a2-bbec-4d7f-bb38-47229b93ff79",
   "metadata": {},
   "outputs": [
    {
     "name": "stdout",
     "output_type": "stream",
     "text": [
      "I don't own a house\n"
     ]
    }
   ],
   "source": [
    "having_a_house = False\n",
    "if having_a_house :\n",
    "    print(\"I own a small house\")\n",
    "else :\n",
    "    print(\"I don't own a house\")"
   ]
  },
  {
   "cell_type": "markdown",
   "id": "b50e79b2-7e88-405f-9dcf-438ba2e04726",
   "metadata": {
    "jp-MarkdownHeadingCollapsed": true,
    "tags": []
   },
   "source": [
    "## String Manipulation"
   ]
  },
  {
   "cell_type": "code",
   "execution_count": 14,
   "id": "1be1652d-ecbf-4dc6-b78d-315cbc38c24a",
   "metadata": {},
   "outputs": [
    {
     "name": "stdout",
     "output_type": "stream",
     "text": [
      "i love pizza\n"
     ]
    },
    {
     "data": {
      "text/plain": [
       "'i love pizza'"
      ]
     },
     "execution_count": 14,
     "metadata": {},
     "output_type": "execute_result"
    }
   ],
   "source": [
    "sentence = \"i love pizza\"\n",
    "print(sentence)\n",
    "sentence"
   ]
  },
  {
   "cell_type": "code",
   "execution_count": 15,
   "id": "c4874a92-3cbb-4ca8-ad47-ed8cb7fe0e50",
   "metadata": {},
   "outputs": [
    {
     "name": "stdout",
     "output_type": "stream",
     "text": [
      "I LOVE PIZZA\n",
      "i love pizza\n",
      "False\n",
      "True\n",
      "True\n"
     ]
    }
   ],
   "source": [
    "sentence\n",
    "print(sentence.upper())\n",
    "print(sentence.lower())\n",
    "print(sentence.isupper())\n",
    "print(sentence.islower())\n",
    "print(sentence.upper().isupper())"
   ]
  },
  {
   "cell_type": "code",
   "execution_count": 16,
   "id": "09876a21-61d7-4e39-bde5-5e597152f742",
   "metadata": {},
   "outputs": [
    {
     "name": "stdout",
     "output_type": "stream",
     "text": [
      "12\n"
     ]
    },
    {
     "data": {
      "text/plain": [
       "12"
      ]
     },
     "execution_count": 16,
     "metadata": {},
     "output_type": "execute_result"
    }
   ],
   "source": [
    "print(len(sentence))\n",
    "len(sentence)"
   ]
  },
  {
   "cell_type": "code",
   "execution_count": 17,
   "id": "ea7fd261-12dc-4749-8bf7-df34505ea219",
   "metadata": {},
   "outputs": [
    {
     "name": "stdout",
     "output_type": "stream",
     "text": [
      "i love tachos\n",
      "i love dinkdonk\n"
     ]
    },
    {
     "data": {
      "text/plain": [
       "'i love pizza'"
      ]
     },
     "execution_count": 17,
     "metadata": {},
     "output_type": "execute_result"
    }
   ],
   "source": [
    "print(sentence.replace(\"pizza\", \"tachos\"))\n",
    "\n",
    "print(sentence.replace(\"pizza\", \"dinkdonk\"))\n",
    "\n",
    "sentence"
   ]
  },
  {
   "cell_type": "code",
   "execution_count": 18,
   "id": "f4f584c9-b2ad-43ad-b91b-8fa7833fa335",
   "metadata": {},
   "outputs": [
    {
     "name": "stdout",
     "output_type": "stream",
     "text": [
      "7\n",
      "0\n",
      "2\n",
      "7\n"
     ]
    }
   ],
   "source": [
    "print(sentence.index(\"p\"))\n",
    "print(sentence.index(\"i\"))\n",
    "print(sentence.index(\"love\"))\n",
    "print(sentence.index(\"pizza\"))"
   ]
  },
  {
   "cell_type": "code",
   "execution_count": 19,
   "id": "76d5e32a-1614-475d-8191-e45d38625a23",
   "metadata": {},
   "outputs": [
    {
     "name": "stdout",
     "output_type": "stream",
     "text": [
      "i love pizza \n",
      " and nachos \n",
      " and badonkaadonk\n"
     ]
    }
   ],
   "source": [
    "print(\"i love pizza \\n and nachos \\n and badonkaadonk\")"
   ]
  },
  {
   "cell_type": "markdown",
   "id": "4d2888ea-d1b4-4d1d-bd6e-1511af15c0b8",
   "metadata": {
    "jp-MarkdownHeadingCollapsed": true,
    "tags": []
   },
   "source": [
    "## Number Manipulation"
   ]
  },
  {
   "cell_type": "code",
   "execution_count": 20,
   "id": "5ea5c441-c2f5-4db9-9404-dd033b894605",
   "metadata": {},
   "outputs": [],
   "source": [
    "from math import *"
   ]
  },
  {
   "cell_type": "code",
   "execution_count": 21,
   "id": "1b019e30-9bf6-4f00-a067-22b8d9f303a4",
   "metadata": {},
   "outputs": [
    {
     "name": "stdout",
     "output_type": "stream",
     "text": [
      "38.0\n",
      "202\n",
      "202\n"
     ]
    }
   ],
   "source": [
    "print(10 + 56 / 2)\n",
    "print(202)\n",
    "print(\"202\")"
   ]
  },
  {
   "cell_type": "code",
   "execution_count": 22,
   "id": "4544ee2b-7343-4fd2-a1cb-d7990a34cc6d",
   "metadata": {},
   "outputs": [
    {
     "name": "stdout",
     "output_type": "stream",
     "text": [
      "hello, my age is 24\n",
      "hello, my age is 24\n"
     ]
    }
   ],
   "source": [
    "age = 24\n",
    "print(\"hello, my age is\", age) \n",
    "print(\"hello, my age is \" + str(age)) "
   ]
  },
  {
   "cell_type": "code",
   "execution_count": 23,
   "id": "61143dd7-6373-4016-ad02-408aa34cb4b6",
   "metadata": {},
   "outputs": [
    {
     "name": "stdout",
     "output_type": "stream",
     "text": [
      "max = 9\n",
      "min = -3\n",
      "5*2 = 7\n",
      "5^2 = 25.0\n",
      "5/2 = 2.5\n",
      "round 7/2 = 6\n",
      "absolute = 7\n",
      "square = 5.0\n"
     ]
    }
   ],
   "source": [
    "print(\"max =\", max(-3, -1, 0, 1, 3, 5, 7, 9))\n",
    "print(\"min =\", min(-3, -1, 0, 1, 3, 5, 7, 9))\n",
    "print(\"5*2 =\", 5^2)\n",
    "print(\"5^2 =\", pow(5, 2)) # pangkat \n",
    "print(\"5/2 =\", 5/2) \n",
    "print(\"round 7/2 =\", round(11/2)) # pembulatan\n",
    "print(\"absolute =\", abs(5-12)) # nilai absolute\n",
    "print('square =', sqrt(25)) # akar"
   ]
  },
  {
   "cell_type": "code",
   "execution_count": 24,
   "id": "2c7832ca-e1bd-4aac-aa22-19793aa8b550",
   "metadata": {},
   "outputs": [
    {
     "name": "stdout",
     "output_type": "stream",
     "text": [
      "3\n",
      "2\n",
      "24\n"
     ]
    }
   ],
   "source": [
    "print(ceil(2.1))\n",
    "print(floor(2.1))\n",
    "print(factorial(4)) # 1 * 2 * 3 * 4"
   ]
  },
  {
   "cell_type": "markdown",
   "id": "86b1f9cb-9ec7-46d3-acd7-b78f97c3e49b",
   "metadata": {
    "tags": []
   },
   "source": [
    "## List Tuple Set Dictionary"
   ]
  },
  {
   "cell_type": "markdown",
   "id": "66e16add-44a0-4322-a209-e0f333b2bcc1",
   "metadata": {
    "jp-MarkdownHeadingCollapsed": true,
    "tags": []
   },
   "source": [
    "### List"
   ]
  },
  {
   "cell_type": "code",
   "execution_count": 15,
   "id": "4f517e3a-0d53-4edf-bed9-06cf2baa684d",
   "metadata": {},
   "outputs": [
    {
     "name": "stdout",
     "output_type": "stream",
     "text": [
      "['apel', 'ceri', 'durian', 'apel', 'ceri']\n",
      "6\n",
      "<class 'list'>\n",
      "2\n",
      "3\n",
      "['apel', 'ceri', 'durian', 'apel', 'ceri', 'buah', 'apel']\n",
      "['apel', 'ceri', 'durian', 'apel', 'ceri', 'buah', 'apel', [1, 2, 3], 14, 'hehe']\n",
      "['apel', 'ceri', 'durian', 'apel', 'ceri', 'buah', 'apel', [1, 2, 3], 14]\n",
      "1\n",
      "['apel', 'ceri', 'durian', 'apel', 'ceri', 'buah', 'apel', [1, 2, 3], 14]\n",
      "['ceri', 'durian', 'apel', 'ceri', 'buah', 'apel', [1, 2, 8], 14]\n"
     ]
    }
   ],
   "source": [
    "list1 = [\"apel\", \"ceri\", \"durian\", \"apel\", \"ceri\"]\n",
    "print(list1)\n",
    "list1.append(\"buah\")\n",
    "print(len(list1))\n",
    "print(type(list1))\n",
    "print(list1.count(\"apel\"))\n",
    "list1.append(\"apel\")\n",
    "print(list1.count(\"apel\"))\n",
    "print(list1)\n",
    "list1.extend([[1, 2, 3], 14, \"hehe\"])\n",
    "print(list1)\n",
    "list1.pop()\n",
    "print(list1)\n",
    "print(list1.index(\"ceri\"))\n",
    "print(list1)\n",
    "list1.remove(\"apel\")\n",
    "list1[6][2] = 8\n",
    "print(list1)"
   ]
  },
  {
   "cell_type": "code",
   "execution_count": null,
   "id": "4cea45fc-9bd9-47d9-9ea4-4cf276e6217c",
   "metadata": {},
   "outputs": [],
   "source": [
    "print(list1)\n",
    "list1.reverse()\n",
    "print(list1)"
   ]
  },
  {
   "cell_type": "code",
   "execution_count": null,
   "id": "f90ffe51-1811-4869-a7b2-4a4e693e36cb",
   "metadata": {},
   "outputs": [],
   "source": [
    "list2 = [20, 30, \"age\", True, True, False]\n",
    "print(type(list2))\n",
    "print(len(list2))\n",
    "print(list2.count(True))\n",
    "print(list2.index(\"age\"))"
   ]
  },
  {
   "cell_type": "code",
   "execution_count": null,
   "id": "5ec98148-79b5-4d4e-9aca-bded507ec5ce",
   "metadata": {},
   "outputs": [],
   "source": [
    "list3 = [\"I\", \"wat\", \"doing\"]\n",
    "list3.insert(3, \"Am\")\n",
    "list3.insert(5, \"lol\")\n",
    "print(list3)\n",
    "list3.index(\"lol\")\n",
    "list3.sort()\n",
    "print(list3)\n",
    "list3.clear()"
   ]
  },
  {
   "cell_type": "markdown",
   "id": "3b4f62e8-580d-4b7e-a8dc-63c228c0edcd",
   "metadata": {
    "jp-MarkdownHeadingCollapsed": true,
    "tags": []
   },
   "source": [
    "### Tuples"
   ]
  },
  {
   "cell_type": "code",
   "execution_count": 1,
   "id": "b6347674-4087-4151-8e4b-77ef70bc3674",
   "metadata": {},
   "outputs": [
    {
     "data": {
      "text/plain": [
       "tuple"
      ]
     },
     "execution_count": 1,
     "metadata": {},
     "output_type": "execute_result"
    }
   ],
   "source": [
    "tuple1 = (\"apel\", \"apel\", \"ceri\", \"durian\")\n",
    "type(tuple1)"
   ]
  },
  {
   "cell_type": "code",
   "execution_count": 2,
   "id": "c7baf385-1e26-468a-8d85-9e408eeed1d1",
   "metadata": {},
   "outputs": [
    {
     "data": {
      "text/plain": [
       "0"
      ]
     },
     "execution_count": 2,
     "metadata": {},
     "output_type": "execute_result"
    }
   ],
   "source": [
    "tuple1.index(\"apel\")"
   ]
  },
  {
   "cell_type": "code",
   "execution_count": 3,
   "id": "e8cfadb9-ef4b-4a0d-968a-fb771c6a6e67",
   "metadata": {},
   "outputs": [
    {
     "data": {
      "text/plain": [
       "2"
      ]
     },
     "execution_count": 3,
     "metadata": {},
     "output_type": "execute_result"
    }
   ],
   "source": [
    "tuple1.count(\"apel\")"
   ]
  },
  {
   "cell_type": "markdown",
   "id": "d99e48b6-44ff-4e93-93b1-f9cac785f915",
   "metadata": {
    "jp-MarkdownHeadingCollapsed": true,
    "tags": []
   },
   "source": [
    "### Set"
   ]
  },
  {
   "cell_type": "markdown",
   "id": "67eea112-f666-4fc1-8add-900dab7cfb6a",
   "metadata": {},
   "source": [
    "Set tidak bisa diurutkan dan tidak bisa duplikat"
   ]
  },
  {
   "cell_type": "code",
   "execution_count": 16,
   "id": "bb613219-31cd-4738-af07-b2cc008bd9ab",
   "metadata": {},
   "outputs": [
    {
     "data": {
      "text/plain": [
       "set"
      ]
     },
     "execution_count": 16,
     "metadata": {},
     "output_type": "execute_result"
    }
   ],
   "source": [
    "set1 = {0, 1, 2, 3}\n",
    "type(set1)"
   ]
  },
  {
   "cell_type": "markdown",
   "id": "b86e3bcc-04a5-4c0f-872d-f1defd536bd0",
   "metadata": {
    "jp-MarkdownHeadingCollapsed": true,
    "tags": []
   },
   "source": [
    "### Dictionary"
   ]
  },
  {
   "cell_type": "code",
   "execution_count": 18,
   "id": "c7740ab6-2937-4324-a14a-53bab4731cbb",
   "metadata": {},
   "outputs": [
    {
     "data": {
      "text/plain": [
       "dict"
      ]
     },
     "execution_count": 18,
     "metadata": {},
     "output_type": "execute_result"
    }
   ],
   "source": [
    "dict1 = {\n",
    "    \"brand\" : [\"Ford\", \"BMW\"],\n",
    "    \"model\" : [\"Mustang\", \"X3\"],\n",
    "    \"year\" : [\"1964\", \"2004\" ]\n",
    "}\n",
    "type(dict1)"
   ]
  },
  {
   "cell_type": "code",
   "execution_count": 19,
   "id": "c70424cd-fb6c-4fc3-9d2e-c817c6b2da21",
   "metadata": {},
   "outputs": [
    {
     "name": "stdout",
     "output_type": "stream",
     "text": [
      "['Mustang', 'X3']\n"
     ]
    }
   ],
   "source": [
    "print(dict1[\"model\"])"
   ]
  },
  {
   "cell_type": "code",
   "execution_count": 20,
   "id": "80a0d814-94cc-445b-a330-94fe617b8f9c",
   "metadata": {},
   "outputs": [
    {
     "data": {
      "text/plain": [
       "['Mustang', 'X3']"
      ]
     },
     "execution_count": 20,
     "metadata": {},
     "output_type": "execute_result"
    }
   ],
   "source": [
    "dict1.get(\"model\")"
   ]
  },
  {
   "cell_type": "code",
   "execution_count": null,
   "id": "ce6c0f16-caf8-4b88-8488-233e94fd7a94",
   "metadata": {},
   "outputs": [],
   "source": [
    "dict1.items()"
   ]
  },
  {
   "cell_type": "code",
   "execution_count": null,
   "id": "d18c87b1-9531-4c34-abcc-5d400b2a0e50",
   "metadata": {},
   "outputs": [],
   "source": [
    "dict1.keys()"
   ]
  },
  {
   "cell_type": "code",
   "execution_count": null,
   "id": "f71f04d1-d0bf-49ae-bc57-ed9e4709a3d2",
   "metadata": {},
   "outputs": [],
   "source": [
    "dict1.values()"
   ]
  },
  {
   "cell_type": "code",
   "execution_count": null,
   "id": "22bd113b-c1a4-4b72-aca3-83ae3e25dd26",
   "metadata": {},
   "outputs": [],
   "source": [
    "dict1.pop(\"year\")\n",
    "print(dict1)"
   ]
  },
  {
   "cell_type": "markdown",
   "id": "add83ebc-966e-4613-9d9e-0e5e0024e649",
   "metadata": {
    "tags": []
   },
   "source": [
    "## Conditional"
   ]
  },
  {
   "cell_type": "markdown",
   "id": "76cd0d35-2510-42a2-8ca5-e47d6e86eea5",
   "metadata": {
    "jp-MarkdownHeadingCollapsed": true,
    "tags": []
   },
   "source": [
    "### If Else"
   ]
  },
  {
   "cell_type": "code",
   "execution_count": 17,
   "id": "e1eceb9c-7520-4bb7-ab03-b0ff899d59d8",
   "metadata": {},
   "outputs": [
    {
     "name": "stdout",
     "output_type": "stream",
     "text": [
      "x is greater than or equal y\n"
     ]
    }
   ],
   "source": [
    "x = 20\n",
    "y = 20\n",
    "if x >= y :\n",
    "    print(\"x is greater than or equal y\")\n",
    "else:\n",
    "    print(\"y is greater than x\")"
   ]
  },
  {
   "cell_type": "code",
   "execution_count": 8,
   "id": "d5ab353b-16f8-411a-9d0a-79622debd181",
   "metadata": {},
   "outputs": [
    {
     "name": "stdout",
     "output_type": "stream",
     "text": [
      "y is greater than x\n"
     ]
    }
   ],
   "source": [
    "x = 19\n",
    "y = 20\n",
    "if x > y :\n",
    "    print(\"x is greater than y\")\n",
    "elif x == y :\n",
    "    print(\"x equal y\")\n",
    "else :\n",
    "    print(\"y is greater than x\")"
   ]
  },
  {
   "cell_type": "code",
   "execution_count": 9,
   "id": "8390b8bf-b2c5-4f1c-9d7e-c5227ee5d9aa",
   "metadata": {},
   "outputs": [
    {
     "name": "stdout",
     "output_type": "stream",
     "text": [
      "Hello, world.\n",
      "Hello, world.\n",
      "Hello, world.\n",
      "Hello, world.\n",
      "Hello, world.\n"
     ]
    }
   ],
   "source": [
    "spam = 0\n",
    "while spam < 5:\n",
    "    print('Hello, world.')\n",
    "    spam = spam + 1"
   ]
  },
  {
   "cell_type": "code",
   "execution_count": 9,
   "id": "e1a77014-8a7d-4c58-b44c-da728181c4e2",
   "metadata": {},
   "outputs": [
    {
     "name": "stdin",
     "output_type": "stream",
     "text": [
      "Are you single?  yes\n",
      "Are you lonely?  yes\n",
      "Would you wank?  no\n"
     ]
    },
    {
     "name": "stdout",
     "output_type": "stream",
     "text": [
      "Good for you then.\n"
     ]
    }
   ],
   "source": [
    "def conv():\n",
    "    q1 = input(\"Are you single? \")\n",
    "    if q1 == \"no\" :\n",
    "        return print(\"Good for you then.\")\n",
    "    elif q1 == \"yes\" :\n",
    "        q2 = input(\"Are you lonely? \")\n",
    "        if q2 == \"no\" :\n",
    "            return print(\"Good for you then.\")\n",
    "        elif q2 == \"yes\" :\n",
    "            q3 = input(\"Would you wank? \")\n",
    "            if q3 == \"no\" :\n",
    "                return print(\"Good for you then.\")\n",
    "            elif q3 == \"yes\" :\n",
    "                return print(\"Let's go!\")\n",
    "\n",
    "conv()"
   ]
  },
  {
   "cell_type": "markdown",
   "id": "4e045452-dfdd-444c-a063-6f9743281280",
   "metadata": {
    "tags": []
   },
   "source": [
    "### For and While Loop"
   ]
  },
  {
   "cell_type": "markdown",
   "id": "4c6bf63e-32c3-4cc1-851d-0a3b3c1d31eb",
   "metadata": {
    "tags": []
   },
   "source": [
    "#### For"
   ]
  },
  {
   "cell_type": "code",
   "execution_count": 14,
   "id": "e1730982-de88-4093-a179-d328403b6ce4",
   "metadata": {},
   "outputs": [
    {
     "name": "stdout",
     "output_type": "stream",
     "text": [
      "apel\n",
      "pisang\n",
      "ceri\n"
     ]
    }
   ],
   "source": [
    "fruits = [\"apel\", \"pisang\", \"ceri\"]\n",
    "for i in fruits :\n",
    "    print(i)"
   ]
  },
  {
   "cell_type": "code",
   "execution_count": 40,
   "id": "5e5b22e2-49a3-43c8-a1db-26865a2f867e",
   "metadata": {},
   "outputs": [
    {
     "name": "stdout",
     "output_type": "stream",
     "text": [
      "apel\n"
     ]
    }
   ],
   "source": [
    "fruits = [\"apel\", \"beri\", \"ceri\"]\n",
    "for fruit in fruits :\n",
    "    if fruit == \"beri\" :\n",
    "        break\n",
    "    print(fruit)"
   ]
  },
  {
   "cell_type": "code",
   "execution_count": 14,
   "id": "ba611ef0-b056-463d-82f1-f2dde5ab4369",
   "metadata": {},
   "outputs": [
    {
     "name": "stdout",
     "output_type": "stream",
     "text": [
      "5\n",
      "7\n",
      "9\n",
      "0 1 2 3 4 "
     ]
    }
   ],
   "source": [
    "for x in range(5, 10, 2) :\n",
    "    print(x)\n",
    "for x in range(5) :\n",
    "    print(x, end = \" \")"
   ]
  },
  {
   "cell_type": "code",
   "execution_count": 44,
   "id": "b8c3a5b0-406b-4f02-926a-451fe812eef3",
   "metadata": {},
   "outputs": [
    {
     "name": "stdout",
     "output_type": "stream",
     "text": [
      "2\n",
      "4\n",
      "6\n",
      "8\n",
      "10\n",
      "0 1 2 3 4 5 6 7 8 9 10 "
     ]
    }
   ],
   "source": [
    "# Range (start, end, step)\n",
    "for i in range(2, 11, 2) :\n",
    "    print(i)\n",
    "    \n",
    "for i in range(0, 11, 1) :\n",
    "    print(i, end = \" \")"
   ]
  },
  {
   "cell_type": "code",
   "execution_count": 45,
   "id": "b202b479-85fe-422c-bf0e-2da4c4539923",
   "metadata": {},
   "outputs": [
    {
     "name": "stdout",
     "output_type": "stream",
     "text": [
      "apel manis\n",
      "apel kecut\n",
      "apel pahit\n",
      "beri manis\n",
      "beri kecut\n",
      "beri pahit\n",
      "ceri manis\n",
      "ceri kecut\n",
      "ceri pahit\n"
     ]
    }
   ],
   "source": [
    "# Nested Loop\n",
    "adj = [\"manis\", \"kecut\", \"pahit\"]\n",
    "buah = [\"apel\", \"beri\", \"ceri\"]\n",
    "\n",
    "for x in buah :\n",
    "    for y in adj :\n",
    "        print(x, y)"
   ]
  },
  {
   "cell_type": "markdown",
   "id": "be9ca47d-6a52-4995-b1ff-77509dcbb635",
   "metadata": {
    "jp-MarkdownHeadingCollapsed": true,
    "tags": []
   },
   "source": [
    "#### While"
   ]
  },
  {
   "cell_type": "code",
   "execution_count": 11,
   "id": "447a6b3d-32be-4857-b595-46aa0233c82d",
   "metadata": {},
   "outputs": [
    {
     "name": "stdout",
     "output_type": "stream",
     "text": [
      "Please type your name.\n"
     ]
    },
    {
     "name": "stdin",
     "output_type": "stream",
     "text": [
      " Roy\n"
     ]
    },
    {
     "name": "stdout",
     "output_type": "stream",
     "text": [
      "Thank you!\n"
     ]
    }
   ],
   "source": [
    "while True:\n",
    "    print('Please type your name.')\n",
    "    name = input()\n",
    "    if name == 'Roy':\n",
    "        break\n",
    "print('Thank you!')"
   ]
  },
  {
   "cell_type": "code",
   "execution_count": 26,
   "id": "d50e0872-8603-4e58-a67b-d33a41c5c1b9",
   "metadata": {},
   "outputs": [
    {
     "name": "stdout",
     "output_type": "stream",
     "text": [
      "Please type your name.\n"
     ]
    },
    {
     "name": "stdin",
     "output_type": "stream",
     "text": [
      " Roy\n"
     ]
    },
    {
     "name": "stdout",
     "output_type": "stream",
     "text": [
      "Hai Roy!!\n",
      "Please type your name.\n"
     ]
    },
    {
     "name": "stdin",
     "output_type": "stream",
     "text": [
      " Roy\n"
     ]
    },
    {
     "name": "stdout",
     "output_type": "stream",
     "text": [
      "Hai Roy!!\n",
      "Please type your name.\n"
     ]
    },
    {
     "name": "stdin",
     "output_type": "stream",
     "text": [
      " Roy\n"
     ]
    },
    {
     "name": "stdout",
     "output_type": "stream",
     "text": [
      "Hai Roy!!\n",
      "Please type your name.\n"
     ]
    },
    {
     "name": "stdin",
     "output_type": "stream",
     "text": [
      " Noi\n"
     ]
    },
    {
     "name": "stdout",
     "output_type": "stream",
     "text": [
      "Thank you!\n"
     ]
    }
   ],
   "source": [
    "while True:\n",
    "    print('Please type your name.')\n",
    "    name = input()\n",
    "    if name == 'Roy':\n",
    "        print(\"Hai Roy!!\")\n",
    "    else :\n",
    "        break \n",
    "print('Thank you!')"
   ]
  },
  {
   "cell_type": "code",
   "execution_count": 46,
   "id": "2528c2dd-4a08-4a01-ae10-15f915e7a0b7",
   "metadata": {},
   "outputs": [
    {
     "name": "stdout",
     "output_type": "stream",
     "text": [
      "0\n",
      "1\n",
      "2\n",
      "3\n",
      "4\n",
      "5\n"
     ]
    }
   ],
   "source": [
    "i = 0\n",
    "while i < 6 :\n",
    "    print(i)\n",
    "    i += 1"
   ]
  },
  {
   "cell_type": "code",
   "execution_count": 4,
   "id": "bbbc9683-8c47-4d51-82f1-e43be1902169",
   "metadata": {},
   "outputs": [
    {
     "name": "stdout",
     "output_type": "stream",
     "text": [
      "2\n",
      "3\n",
      "4\n",
      "5\n",
      "6\n",
      "7\n",
      "8\n",
      "9\n",
      "10\n",
      "11\n"
     ]
    }
   ],
   "source": [
    "i = 1\n",
    "while i <= 10:\n",
    "  print(i+1)\n",
    "  i += 1"
   ]
  },
  {
   "cell_type": "code",
   "execution_count": 5,
   "id": "c87c1ca3-6e1c-4c76-8f22-cf7f6f55ddc0",
   "metadata": {},
   "outputs": [
    {
     "name": "stdout",
     "output_type": "stream",
     "text": [
      "First try\n"
     ]
    },
    {
     "name": "stdin",
     "output_type": "stream",
     "text": [
      "Your password : roiroi\n"
     ]
    },
    {
     "name": "stdout",
     "output_type": "stream",
     "text": [
      "Second try\n"
     ]
    },
    {
     "name": "stdin",
     "output_type": "stream",
     "text": [
      "Your password : roiroi\n"
     ]
    },
    {
     "name": "stdout",
     "output_type": "stream",
     "text": [
      "Last try\n"
     ]
    },
    {
     "name": "stdin",
     "output_type": "stream",
     "text": [
      "Your password : roiroi123\n"
     ]
    },
    {
     "name": "stdout",
     "output_type": "stream",
     "text": [
      "You're in!\n"
     ]
    }
   ],
   "source": [
    "pass_saved = \"roiroi123\"\n",
    "input_try = 0\n",
    "max_input = 3 \n",
    "max_try = False\n",
    "passinp = 0\n",
    "while passinp != pass_saved and max_try == False :\n",
    "    if input_try == 0 :\n",
    "        print(\"First try\")\n",
    "        passinp = input(\"Your password :\")\n",
    "        input_try += 1 \n",
    "    elif input_try == 1 :\n",
    "        print(\"Second try\")\n",
    "        passinp = input(\"Your password :\")\n",
    "        input_try += 1 \n",
    "    elif input_try == 2 :\n",
    "        print(\"Last try\")\n",
    "        passinp = input(\"Your password :\")\n",
    "        input_try += 1 \n",
    "    else :\n",
    "        max_try = True\n",
    "if passinp == pass_saved :\n",
    "    print(\"You're in!\")\n",
    "else :    \n",
    "    print(\"Blocked\")"
   ]
  },
  {
   "cell_type": "code",
   "execution_count": null,
   "id": "2c5031a4-df22-46b1-b4d0-d162ac419d1d",
   "metadata": {},
   "outputs": [],
   "source": []
  }
 ],
 "metadata": {
  "kernelspec": {
   "display_name": "Python 3 (ipykernel)",
   "language": "python",
   "name": "python3"
  },
  "language_info": {
   "codemirror_mode": {
    "name": "ipython",
    "version": 3
   },
   "file_extension": ".py",
   "mimetype": "text/x-python",
   "name": "python",
   "nbconvert_exporter": "python",
   "pygments_lexer": "ipython3",
   "version": "3.9.12"
  }
 },
 "nbformat": 4,
 "nbformat_minor": 5
}
